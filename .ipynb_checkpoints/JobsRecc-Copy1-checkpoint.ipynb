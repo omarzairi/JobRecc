{
 "cells": [
  {
   "cell_type": "code",
   "execution_count": 1,
   "id": "d60e26d5",
   "metadata": {},
   "outputs": [
    {
     "name": "stderr",
     "output_type": "stream",
     "text": [
      "[nltk_data] Downloading package punkt to\n",
      "[nltk_data]     C:\\Users\\zairi\\AppData\\Roaming\\nltk_data...\n",
      "[nltk_data]   Package punkt is already up-to-date!\n"
     ]
    }
   ],
   "source": [
    "import pandas as pd\n",
    "import operator\n",
    "import re\n",
    "from nltk.corpus import stopwords\n",
    "from nltk.tokenize import word_tokenize\n",
    "import nltk\n",
    "nltk.download('punkt')\n",
    "import matplotlib.pyplot as plt\n",
    "from sklearn.feature_extraction.text import TfidfVectorizer\n",
    "from sklearn.cluster import KMeans\n",
    "import seaborn as sns\n",
    "from sklearn.decomposition import PCA\n",
    "from sklearn.model_selection import train_test_split\n",
    "from sklearn.linear_model import LogisticRegression\n",
    "from sklearn.neighbors import KNeighborsClassifier\n",
    "from sklearn.tree import DecisionTreeClassifier\n",
    "from sklearn.metrics import confusion_matrix,make_scorer,classification_report,accuracy_score\n",
    "from sklearn import svm\n",
    "from sklearn.metrics.pairwise import euclidean_distances\n",
    "from sklearn.metrics.pairwise import cosine_similarity\n",
    "from sklearn.metrics import roc_curve,roc_auc_score\n",
    "import warnings\n",
    "warnings.filterwarnings('ignore')"
   ]
  },
  {
   "cell_type": "code",
   "execution_count": 2,
   "id": "d0c92669",
   "metadata": {},
   "outputs": [
    {
     "data": {
      "text/html": [
       "<div>\n",
       "<style scoped>\n",
       "    .dataframe tbody tr th:only-of-type {\n",
       "        vertical-align: middle;\n",
       "    }\n",
       "\n",
       "    .dataframe tbody tr th {\n",
       "        vertical-align: top;\n",
       "    }\n",
       "\n",
       "    .dataframe thead th {\n",
       "        text-align: right;\n",
       "    }\n",
       "</style>\n",
       "<table border=\"1\" class=\"dataframe\">\n",
       "  <thead>\n",
       "    <tr style=\"text-align: right;\">\n",
       "      <th></th>\n",
       "      <th>jobtitle</th>\n",
       "      <th>skills</th>\n",
       "    </tr>\n",
       "  </thead>\n",
       "  <tbody>\n",
       "    <tr>\n",
       "      <th>0</th>\n",
       "      <td>AUTOMATION TEST ENGINEER</td>\n",
       "      <td>SEE BELOW</td>\n",
       "    </tr>\n",
       "    <tr>\n",
       "      <th>1</th>\n",
       "      <td>Information Security Engineer</td>\n",
       "      <td>linux/unix, network monitoring, incident respo...</td>\n",
       "    </tr>\n",
       "    <tr>\n",
       "      <th>2</th>\n",
       "      <td>Business Solutions Architect</td>\n",
       "      <td>Enterprise Solutions Architecture, business in...</td>\n",
       "    </tr>\n",
       "    <tr>\n",
       "      <th>3</th>\n",
       "      <td>Java Developer (mid level)- FT- GREAT culture,...</td>\n",
       "      <td>Please see job description</td>\n",
       "    </tr>\n",
       "    <tr>\n",
       "      <th>4</th>\n",
       "      <td>DevOps Engineer</td>\n",
       "      <td>Configuration Management, Developer, Linux, Ma...</td>\n",
       "    </tr>\n",
       "    <tr>\n",
       "      <th>...</th>\n",
       "      <td>...</td>\n",
       "      <td>...</td>\n",
       "    </tr>\n",
       "    <tr>\n",
       "      <th>495</th>\n",
       "      <td>Finance &amp; OPS - Technical Consultant (dynamic...</td>\n",
       "      <td>microsoft dynamics ax| strategy implementatio...</td>\n",
       "    </tr>\n",
       "    <tr>\n",
       "      <th>496</th>\n",
       "      <td>Business Development Manager-digital / Export</td>\n",
       "      <td>digital marketing| international sales| inter...</td>\n",
       "    </tr>\n",
       "    <tr>\n",
       "      <th>497</th>\n",
       "      <td>Sr. Software Engineer</td>\n",
       "      <td>Unix| PDF| Deployment| Informatica| Oracle| T...</td>\n",
       "    </tr>\n",
       "    <tr>\n",
       "      <th>498</th>\n",
       "      <td>Website Designer</td>\n",
       "      <td>jQuery| Analytical| Wordpress| Conceptualizat...</td>\n",
       "    </tr>\n",
       "    <tr>\n",
       "      <th>499</th>\n",
       "      <td>Tech caller hiring a huge number of Executives.</td>\n",
       "      <td>Outbound| Night shift| Recruitment| iPhone| E...</td>\n",
       "    </tr>\n",
       "  </tbody>\n",
       "</table>\n",
       "<p>24273 rows × 2 columns</p>\n",
       "</div>"
      ],
      "text/plain": [
       "                                              jobtitle  \\\n",
       "0                             AUTOMATION TEST ENGINEER   \n",
       "1                        Information Security Engineer   \n",
       "2                         Business Solutions Architect   \n",
       "3    Java Developer (mid level)- FT- GREAT culture,...   \n",
       "4                                      DevOps Engineer   \n",
       "..                                                 ...   \n",
       "495   Finance & OPS - Technical Consultant (dynamic...   \n",
       "496      Business Development Manager-digital / Export   \n",
       "497                              Sr. Software Engineer   \n",
       "498                                   Website Designer   \n",
       "499    Tech caller hiring a huge number of Executives.   \n",
       "\n",
       "                                                skills  \n",
       "0                                            SEE BELOW  \n",
       "1    linux/unix, network monitoring, incident respo...  \n",
       "2    Enterprise Solutions Architecture, business in...  \n",
       "3                           Please see job description  \n",
       "4    Configuration Management, Developer, Linux, Ma...  \n",
       "..                                                 ...  \n",
       "495   microsoft dynamics ax| strategy implementatio...  \n",
       "496   digital marketing| international sales| inter...  \n",
       "497   Unix| PDF| Deployment| Informatica| Oracle| T...  \n",
       "498   jQuery| Analytical| Wordpress| Conceptualizat...  \n",
       "499   Outbound| Night shift| Recruitment| iPhone| E...  \n",
       "\n",
       "[24273 rows x 2 columns]"
      ]
     },
     "execution_count": 2,
     "metadata": {},
     "output_type": "execute_result"
    }
   ],
   "source": [
    "jobs1=pd.read_csv(\"./input/dataset/jobz.csv\")\n",
    "jobs2=pd.read_csv(\"./input/dataset/Modified.csv\")\n",
    "jobs3=pd.read_csv(\"./input/dataset/jobss.csv\")\n",
    "jobs2.rename(columns = {'Title':'jobtitle'}, inplace = True)\n",
    "jobs2.rename(columns = {'RequiredQual':'skills'}, inplace = True)\n",
    "\n",
    "df= pd.concat([jobs1,jobs2,jobs3])\n",
    "to_drop = ['JobDescription','JobRequirment','Combined']\n",
    "df.drop(to_drop, inplace=True, axis=1)\n",
    "df"
   ]
  },
  {
   "cell_type": "code",
   "execution_count": 3,
   "id": "a906e5a5",
   "metadata": {},
   "outputs": [
    {
     "data": {
      "text/html": [
       "<div>\n",
       "<style scoped>\n",
       "    .dataframe tbody tr th:only-of-type {\n",
       "        vertical-align: middle;\n",
       "    }\n",
       "\n",
       "    .dataframe tbody tr th {\n",
       "        vertical-align: top;\n",
       "    }\n",
       "\n",
       "    .dataframe thead th {\n",
       "        text-align: right;\n",
       "    }\n",
       "</style>\n",
       "<table border=\"1\" class=\"dataframe\">\n",
       "  <thead>\n",
       "    <tr style=\"text-align: right;\">\n",
       "      <th></th>\n",
       "      <th>jobtitle</th>\n",
       "      <th>skills</th>\n",
       "    </tr>\n",
       "  </thead>\n",
       "  <tbody>\n",
       "    <tr>\n",
       "      <th>count</th>\n",
       "      <td>24262</td>\n",
       "      <td>24230</td>\n",
       "    </tr>\n",
       "    <tr>\n",
       "      <th>unique</th>\n",
       "      <td>15718</td>\n",
       "      <td>21002</td>\n",
       "    </tr>\n",
       "    <tr>\n",
       "      <th>top</th>\n",
       "      <td>Java Developer</td>\n",
       "      <td>Telecommuting not available Travel not required</td>\n",
       "    </tr>\n",
       "    <tr>\n",
       "      <th>freq</th>\n",
       "      <td>306</td>\n",
       "      <td>141</td>\n",
       "    </tr>\n",
       "  </tbody>\n",
       "</table>\n",
       "</div>"
      ],
      "text/plain": [
       "              jobtitle                                           skills\n",
       "count            24262                                            24230\n",
       "unique           15718                                            21002\n",
       "top     Java Developer  Telecommuting not available Travel not required\n",
       "freq               306                                              141"
      ]
     },
     "execution_count": 3,
     "metadata": {},
     "output_type": "execute_result"
    }
   ],
   "source": [
    "df.shape\n",
    "df.describe()"
   ]
  },
  {
   "cell_type": "code",
   "execution_count": null,
   "id": "acf78105",
   "metadata": {},
   "outputs": [],
   "source": []
  },
  {
   "cell_type": "code",
   "execution_count": 43,
   "id": "62d76fff",
   "metadata": {},
   "outputs": [
    {
     "data": {
      "text/plain": [
       "Java Developer               389\n",
       "Project Manager              239\n",
       "Accountant                   221\n",
       "Software Engineer            220\n",
       "Web Developer                157\n",
       "                            ... \n",
       "Big Data Engineer             14\n",
       "UI/UX Designer                13\n",
       "Quality Assurance Analyst     13\n",
       "Site Reliability Engineer     13\n",
       "Database Admin/Dev            13\n",
       "Name: jobtitle, Length: 92, dtype: int64"
      ]
     },
     "execution_count": 43,
     "metadata": {},
     "output_type": "execute_result"
    }
   ],
   "source": [
    "classes = df['jobtitle'].value_counts()\n",
    "keys = classes.keys().to_list()\n",
    "\n",
    "df =df[df['jobtitle'].isin(keys)]\n",
    "df['jobtitle'].value_counts()"
   ]
  },
  {
   "cell_type": "code",
   "execution_count": 44,
   "id": "8edf5cbe",
   "metadata": {},
   "outputs": [
    {
     "data": {
      "text/plain": [
       "Java Developer               389\n",
       "Project Manager              239\n",
       "Accountant                   221\n",
       "Software Engineer            220\n",
       "Web Developer                157\n",
       "                            ... \n",
       "Big Data Engineer             14\n",
       "UI/UX Designer                13\n",
       "Quality Assurance Analyst     13\n",
       "Site Reliability Engineer     13\n",
       "Database Admin/Dev            13\n",
       "Name: jobtitle, Length: 92, dtype: int64"
      ]
     },
     "execution_count": 44,
     "metadata": {},
     "output_type": "execute_result"
    }
   ],
   "source": [
    "def chane_titles(x):\n",
    "    x = x.strip()\n",
    "    if x == 'Senior Java Developer' :\n",
    "        return 'Java Developer'\n",
    "    elif x == 'Sr Java Developer' :\n",
    "        return 'Java Developer'\n",
    "    elif x == 'Sr. Java Developer' :\n",
    "        return 'Java Developer'\n",
    "    elif x == 'Senior Software Engineer':\n",
    "        return 'Software Engineer'\n",
    "    elif x == 'Senior QA Engineer':\n",
    "        return 'Software QA Engineer'\n",
    "    elif x == 'Senior Software Developer':\n",
    "        return 'Senior Web Developer'\n",
    "    elif x =='Senior PHP Developer':\n",
    "        return 'PHP Developer'\n",
    "    elif x == 'Senior .NET Developer':\n",
    "        return '.NET Developer'\n",
    "    elif x == 'Sr .NET Developer':\n",
    "        return '.NET Developer'\n",
    "    elif x == 'Sr. .NET Developer':\n",
    "        return '.NET Developer'\n",
    "    elif x == '.Net Developer':\n",
    "        return '.NET Developer'\n",
    "    elif x == 'Senior Web Developer':\n",
    "        return 'Web Developer'\n",
    "    elif x == 'Database Administrator':\n",
    "        return 'Database Admin/Dev'\n",
    "    elif x == 'Database Developer':\n",
    "        return 'Database Admin/Dev'\n",
    "\n",
    "    else:\n",
    "        return x\n",
    "        \n",
    "    \n",
    "df['jobtitle'] = df['jobtitle'].apply(chane_titles)\n",
    "df['jobtitle'].value_counts()"
   ]
  },
  {
   "cell_type": "code",
   "execution_count": 45,
   "id": "76d3915d",
   "metadata": {},
   "outputs": [
    {
     "name": "stdout",
     "output_type": "stream",
     "text": [
      "[389, 239, 221, 220, 157]\n",
      "top 5 popular jobs : ['Java Developer', 'Project Manager', 'Accountant', 'Software Engineer', 'Web Developer']\n"
     ]
    }
   ],
   "source": [
    "qty=df['jobtitle'].value_counts()[:5].tolist()\n",
    "label=df['jobtitle'].value_counts().index.tolist()\n",
    "print(qty)\n",
    "\n",
    "print('top 5 popular jobs : '+str(df['jobtitle'].value_counts()[:5].index.tolist()))"
   ]
  },
  {
   "cell_type": "code",
   "execution_count": 46,
   "id": "fd35f2a5",
   "metadata": {},
   "outputs": [],
   "source": [
    "stopwordsSkills=[]\n",
    "sk=df[\"skills\"]\n",
    "for word in sk:\n",
    "    word=str(word)\n",
    "    word.lower()\n",
    "    word=word.split(',')\n",
    "    if(word[0]!=''):\n",
    "        stopwordsSkills.append(word[0])\n",
    "sdf=pd.DataFrame({'skills':stopwordsSkills})\n"
   ]
  },
  {
   "cell_type": "code",
   "execution_count": 47,
   "id": "4a1c3926",
   "metadata": {},
   "outputs": [
    {
     "name": "stdout",
     "output_type": "stream",
     "text": [
      "top 5 skills : \n",
      "Java                                                                                                                      141\n",
      "Customer Service                                                                                                          120\n",
      ".Net                                                                                                                       64\n",
      "Agile                                                                                                                      61\n",
      "Analysis                                                                                                                   57\n",
      "- Excellent communication skills;\\r\\n- Good oral and written communication skills in Armenian and English\\r\\nlanguages     55\n",
      "- Higher education                                                                                                         33\n",
      "Project Manager                                                                                                            33\n",
      "C#                                                                                                                         31\n",
      "Business Analyst                                                                                                           28\n",
      "Name: skills, dtype: int64\n"
     ]
    }
   ],
   "source": [
    "qtySkills=sdf[\"skills\"].value_counts().tolist()\n",
    "labelSkills=sdf['skills'].value_counts().index.tolist()\n",
    "print('top 5 skills : \\n'+str(sdf['skills'].value_counts()[:10]))"
   ]
  },
  {
   "cell_type": "code",
   "execution_count": 48,
   "id": "ceb3d17c",
   "metadata": {},
   "outputs": [],
   "source": [
    "vectorizer=TfidfVectorizer()\n",
    "X=vectorizer.fit_transform(df['jobtitle'].values)\n",
    "analyze=vectorizer.build_analyzer()\n",
    "features=vectorizer.get_feature_names()\n"
   ]
  },
  {
   "cell_type": "code",
   "execution_count": 49,
   "id": "b0d9d4ee",
   "metadata": {},
   "outputs": [],
   "source": [
    "jobSkills=[]\n",
    "for i in sdf[\"skills\"]:\n",
    "    jobSkills.append(i.lower())\n",
    "Xclass=vectorizer.fit_transform(jobSkills)\n",
    "X_train,X_test,Y_train,Y_test=train_test_split(Xclass,df['jobtitle'],test_size=0.2,random_state=42)\n"
   ]
  },
  {
   "cell_type": "code",
   "execution_count": 62,
   "id": "25d2568f",
   "metadata": {},
   "outputs": [
    {
     "data": {
      "text/plain": [
       "'                                                precision    recall  f1-score   support\\n\\n                                .NET Developer       0.46      0.81      0.58        26\\n                                    Accountant       0.60      0.63      0.61        54\\n                      Administrative Assistant       0.33      0.64      0.43        22\\n                                   Agile Coach       1.00      0.25      0.40         4\\n                             Android Developer       1.00      1.00      1.00         6\\n                         Application Developer       1.00      0.29      0.44         7\\n                            Big Data Architect       1.00      0.25      0.40         4\\n                             Big Data Engineer       0.00      0.00      0.00         2\\n                                 Brand Manager       0.80      0.67      0.73         6\\n                              Business Analyst       0.57      0.54      0.55        24\\n                  Business Development Manager       1.00      0.50      0.67         2\\n                      Business Systems Analyst       1.00      0.25      0.40         8\\n                                 C++ Developer       0.00      0.00      0.00         8\\n                              Chief Accountant       0.59      0.52      0.55        31\\n                           Core Java Developer       0.50      0.75      0.60         4\\n                                  Data Analyst       0.40      0.18      0.25        11\\n                                Data Architect       1.00      0.57      0.73         7\\n                                 Data Engineer       1.00      0.50      0.67         2\\n                                Data Scientist       0.00      0.00      0.00         4\\n                            Database Admin/Dev       0.00      0.00      0.00         3\\n                               Desktop Support       1.00      0.67      0.80         3\\n                    Desktop Support Technician       0.67      0.50      0.57         4\\n                                        DevOps       1.00      0.33      0.50         3\\n                               DevOps Engineer       0.64      0.44      0.52        16\\n                                     Developer       0.00      0.00      0.00         2\\n                          Enterprise Architect       1.00      0.50      0.67         6\\n                           Executive Assistant       0.67      0.50      0.57         8\\n                           Front End Developer       0.50      0.14      0.22         7\\n                          Full Stack Developer       0.00      0.00      0.00         7\\n                              Hadoop Developer       0.20      1.00      0.33         1\\n                            IT Project Manager       0.33      0.17      0.22         6\\n                                Java Developer       0.53      0.71      0.61        66\\n                                        Lawyer       1.00      0.87      0.93        23\\n                           Lead Java Developer       0.00      0.00      0.00         5\\n                             Marketing Manager       1.00      0.26      0.41        23\\n                          Marketing Specialist       0.33      0.40      0.36         5\\n                        Medical Representative       0.96      0.96      0.96        26\\n                              Mobile Developer       0.00      0.00      0.00         2\\n                         Network Administrator       1.00      0.33      0.50         3\\n                             Network Architect       0.00      0.00      0.00         2\\n                              Network Engineer       0.41      0.81      0.54        16\\n                                Office Manager       0.67      0.15      0.25        13\\n                                    Oracle DBA       0.83      0.83      0.83         6\\n                                 PHP Developer       0.71      0.71      0.71        14\\n                               Product Manager       0.50      0.33      0.40         3\\n                               Program Manager       0.33      0.50      0.40         4\\n                           Project Coordinator       1.00      0.75      0.86         8\\n                               Project Manager       0.42      0.68      0.52        41\\n                              Python Developer       0.33      0.33      0.33         3\\n                                   QA Engineer       0.94      0.83      0.88        18\\n                     Quality Assurance Analyst       0.00      0.00      0.00         1\\n        Receptionist/ Administrative Assistant       1.00      0.94      0.97        16\\n   Robert Half Technology Account Executive CS       0.24      0.78      0.37         9\\n   Robert Half Technology Account Executive TS       0.00      0.00      0.00         9\\n    Robert Half Technology Senior Recruiter CS       0.00      0.00      0.00         7\\nRobert Half Technology Technology Recruiter CS       0.00      0.00      0.00         3\\nRobert Half Technology Technology Recruiter TS       0.00      0.00      0.00         3\\n                                 Sales Manager       0.59      0.70      0.64        23\\n                          Salesforce Developer       1.00      0.75      0.86         8\\n                                  Scrum Master       1.00      1.00      1.00         2\\n                              Security Analyst       1.00      0.25      0.40         4\\n                             Security Engineer       0.50      0.60      0.55         5\\n                         Senior .Net Developer       0.00      0.00      0.00         3\\n                       Senior Business Analyst       0.00      0.00      0.00         8\\n                       Senior Network Engineer       1.00      0.18      0.31        11\\n                        Senior Project Manager       0.00      0.00      0.00         2\\n                       Senior Systems Engineer       0.00      0.00      0.00         5\\n                          SharePoint Developer       0.67      0.67      0.67         3\\n                     Site Reliability Engineer       1.00      0.40      0.57         5\\n                            Software Architect       0.00      0.00      0.00         3\\n                            Software Developer       0.58      0.56      0.57        25\\n                 Software Development Engineer       0.30      0.60      0.40        10\\n                  Software Development Manager       0.00      0.00      0.00         3\\n                             Software Engineer       0.19      0.43      0.27        51\\n                            Solution Architect       0.00      0.00      0.00         3\\n                           Solutions Architect       0.50      0.25      0.33         4\\n                           Sr. Project Manager       1.00      0.20      0.33         5\\n                         Sr. Software Engineer       0.00      0.00      0.00         4\\n                          System Administrator       1.00      0.67      0.80         6\\n                               System Engineer       0.00      0.00      0.00         4\\n                         Systems Administrator       0.71      0.42      0.53        12\\n                               Systems Analyst       0.00      0.00      0.00         4\\n                              Systems Engineer       0.50      0.42      0.45        12\\n                     Technical Project Manager       1.00      0.33      0.50         6\\n                           Technical Recruiter       1.00      0.71      0.83         7\\n                              Technical Writer       0.75      1.00      0.86         6\\n                                  UI Developer       0.57      0.67      0.62         6\\n                                UI/UX Designer       0.67      0.67      0.67         3\\n                                   UX Designer       0.67      0.40      0.50         5\\n                                 Web Developer       0.38      0.42      0.40        36\\n                                 iOS Developer       0.50      0.50      0.50         4\\n\\n                                      accuracy                           0.52       925\\n                                     macro avg       0.52      0.40      0.42       925\\n                                  weighted avg       0.56      0.52      0.50       925\\n'"
      ]
     },
     "execution_count": 62,
     "metadata": {},
     "output_type": "execute_result"
    }
   ],
   "source": [
    "from sklearn.model_selection import GridSearchCV\n",
    "from sklearn.metrics import classification_report\n",
    "from sklearn.svm import SVC\n",
    "\n",
    "svm=SVC(C=50,gamma=1,kernel='rbf',probability=True)\n",
    "svmfit=svm.fit(X_train,Y_train)\n",
    "svm_predictions=svmfit.predict(X_test)\n",
    "classification_report(Y_test,svm_predictions)"
   ]
  },
  {
   "cell_type": "code",
   "execution_count": 66,
   "id": "90e0d7e6",
   "metadata": {},
   "outputs": [
    {
     "name": "stdout",
     "output_type": "stream",
     "text": [
      "skills :linux/unix, network monitoring\n",
      "['you may look into Java Developer']\n"
     ]
    }
   ],
   "source": [
    "userInput=input(\"skills :\")\n",
    "pred=vectorizer.transform([userInput])\n",
    "output=svm.predict(pred)\n",
    "print(\"you may look into \" + output)\n",
    "\n"
   ]
  },
  {
   "cell_type": "code",
   "execution_count": null,
   "id": "34102b0c",
   "metadata": {},
   "outputs": [],
   "source": []
  },
  {
   "cell_type": "code",
   "execution_count": null,
   "id": "0001528d",
   "metadata": {},
   "outputs": [],
   "source": []
  },
  {
   "cell_type": "code",
   "execution_count": null,
   "id": "6a8e48b8",
   "metadata": {},
   "outputs": [],
   "source": []
  }
 ],
 "metadata": {
  "kernelspec": {
   "display_name": "Python 3 (ipykernel)",
   "language": "python",
   "name": "python3"
  },
  "language_info": {
   "codemirror_mode": {
    "name": "ipython",
    "version": 3
   },
   "file_extension": ".py",
   "mimetype": "text/x-python",
   "name": "python",
   "nbconvert_exporter": "python",
   "pygments_lexer": "ipython3",
   "version": "3.9.13"
  }
 },
 "nbformat": 4,
 "nbformat_minor": 5
}

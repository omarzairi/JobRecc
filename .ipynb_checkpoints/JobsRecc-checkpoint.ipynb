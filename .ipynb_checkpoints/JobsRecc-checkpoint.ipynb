{
 "cells": [
  {
   "cell_type": "code",
   "execution_count": null,
   "id": "d60e26d5",
   "metadata": {},
   "outputs": [],
   "source": [
    "import pandas as pd\n",
    "import operator\n",
    "import re\n",
    "from nltk.corpus import stopwords\n",
    "from nltk.tokenize import word_tokenize\n",
    "import nltk\n",
    "nltk.download('punkt')\n",
    "import matplotlib.pyplot as plt\n",
    "from sklearn.feature_extraction.text import TfidfVectorizer\n",
    "from sklearn.cluster import KMeans\n",
    "import seaborn as sns\n",
    "from sklearn.decomposition import PCA\n",
    "from sklearn.model_selection import train_test_split\n",
    "from sklearn.linear_model import LogisticRegression\n",
    "from sklearn.neighbors import KNeighborsClassifier\n",
    "from sklearn.tree import DecisionTreeClassifier\n",
    "from sklearn.metrics import confusion_matrix,make_scorer,classification_report,accuracy_score\n",
    "from sklearn import svm\n",
    "from sklearn.metrics.pairwise import euclidean_distances\n",
    "from sklearn.metrics.pairwise import cosine_similarity\n",
    "from sklearn.metrics import roc_curve,roc_auc_score\n",
    "import warnings\n",
    "warnings.filterwarnings('ignore')"
   ]
  },
  {
   "cell_type": "code",
   "execution_count": null,
   "id": "d0c92669",
   "metadata": {},
   "outputs": [],
   "source": [
    "jobs=\"./input/dataset/Modified.csv\"\n",
    "df=pd.read_csv(jobs)\n",
    "df.head()"
   ]
  },
  {
   "cell_type": "code",
   "execution_count": 44,
   "id": "a906e5a5",
   "metadata": {},
   "outputs": [
    {
     "data": {
      "text/html": [
       "<div>\n",
       "<style scoped>\n",
       "    .dataframe tbody tr th:only-of-type {\n",
       "        vertical-align: middle;\n",
       "    }\n",
       "\n",
       "    .dataframe tbody tr th {\n",
       "        vertical-align: top;\n",
       "    }\n",
       "\n",
       "    .dataframe thead th {\n",
       "        text-align: right;\n",
       "    }\n",
       "</style>\n",
       "<table border=\"1\" class=\"dataframe\">\n",
       "  <thead>\n",
       "    <tr style=\"text-align: right;\">\n",
       "      <th></th>\n",
       "      <th>RequiredQual</th>\n",
       "      <th>JobDescription</th>\n",
       "      <th>JobRequirment</th>\n",
       "      <th>Title</th>\n",
       "      <th>Combined</th>\n",
       "    </tr>\n",
       "  </thead>\n",
       "  <tbody>\n",
       "    <tr>\n",
       "      <th>count</th>\n",
       "      <td>1773</td>\n",
       "      <td>1773</td>\n",
       "      <td>1773</td>\n",
       "      <td>1773</td>\n",
       "      <td>1773</td>\n",
       "    </tr>\n",
       "    <tr>\n",
       "      <th>unique</th>\n",
       "      <td>1562</td>\n",
       "      <td>1448</td>\n",
       "      <td>1475</td>\n",
       "      <td>19</td>\n",
       "      <td>1617</td>\n",
       "    </tr>\n",
       "    <tr>\n",
       "      <th>top</th>\n",
       "      <td>- Excellent communication skills;\\r\\n- Good or...</td>\n",
       "      <td>The incumbent will work under the direct super...</td>\n",
       "      <td>- Answer telephone calls and inquiries, forwar...</td>\n",
       "      <td>Accountant</td>\n",
       "      <td>- Excellent communication skills; - Good oral ...</td>\n",
       "    </tr>\n",
       "    <tr>\n",
       "      <th>freq</th>\n",
       "      <td>43</td>\n",
       "      <td>55</td>\n",
       "      <td>50</td>\n",
       "      <td>216</td>\n",
       "      <td>40</td>\n",
       "    </tr>\n",
       "  </tbody>\n",
       "</table>\n",
       "</div>"
      ],
      "text/plain": [
       "                                             RequiredQual  \\\n",
       "count                                                1773   \n",
       "unique                                               1562   \n",
       "top     - Excellent communication skills;\\r\\n- Good or...   \n",
       "freq                                                   43   \n",
       "\n",
       "                                           JobDescription  \\\n",
       "count                                                1773   \n",
       "unique                                               1448   \n",
       "top     The incumbent will work under the direct super...   \n",
       "freq                                                   55   \n",
       "\n",
       "                                            JobRequirment       Title  \\\n",
       "count                                                1773        1773   \n",
       "unique                                               1475          19   \n",
       "top     - Answer telephone calls and inquiries, forwar...  Accountant   \n",
       "freq                                                   50         216   \n",
       "\n",
       "                                                 Combined  \n",
       "count                                                1773  \n",
       "unique                                               1617  \n",
       "top     - Excellent communication skills; - Good oral ...  \n",
       "freq                                                   40  "
      ]
     },
     "execution_count": 44,
     "metadata": {},
     "output_type": "execute_result"
    }
   ],
   "source": [
    "df.shape\n",
    "df.describe()"
   ]
  },
  {
   "cell_type": "code",
   "execution_count": null,
   "id": "acf78105",
   "metadata": {},
   "outputs": [],
   "source": []
  },
  {
   "cell_type": "code",
   "execution_count": 45,
   "id": "62d76fff",
   "metadata": {},
   "outputs": [
    {
     "data": {
      "text/plain": [
       "Accountant                                216\n",
       "Medical Representative                    151\n",
       "Chief Accountant                          151\n",
       "Java Developer                            132\n",
       "Sales Manager                             126\n",
       "Administrative Assistant                  124\n",
       "Lawyer                                    115\n",
       "Project Manager                            94\n",
       "Software Developer                         79\n",
       "Web Developer                              74\n",
       "Receptionist/ Administrative Assistant     73\n",
       "Office Manager                             65\n",
       "Marketing Specialist                       60\n",
       "Marketing Manager                          59\n",
       "QA Engineer                                59\n",
       "PHP Developer                              52\n",
       "Software Engineer                          51\n",
       "Brand Manager                              46\n",
       "Executive Assistant                        46\n",
       "Name: Title, dtype: int64"
      ]
     },
     "execution_count": 45,
     "metadata": {},
     "output_type": "execute_result"
    }
   ],
   "source": [
    "classes = df['Title'].value_counts()[:20]\n",
    "keys = classes.keys().to_list()\n",
    "\n",
    "df = df[df['Title'].isin(keys)]\n",
    "df['Title'].value_counts()"
   ]
  },
  {
   "cell_type": "code",
   "execution_count": 46,
   "id": "8edf5cbe",
   "metadata": {},
   "outputs": [
    {
     "data": {
      "text/plain": [
       "Accountant                                216\n",
       "Medical Representative                    151\n",
       "Chief Accountant                          151\n",
       "Java Developer                            132\n",
       "Sales Manager                             126\n",
       "Administrative Assistant                  124\n",
       "Lawyer                                    115\n",
       "Project Manager                            94\n",
       "Software Developer                         79\n",
       "Web Developer                              74\n",
       "Receptionist/ Administrative Assistant     73\n",
       "Office Manager                             65\n",
       "Marketing Specialist                       60\n",
       "Marketing Manager                          59\n",
       "QA Engineer                                59\n",
       "PHP Developer                              52\n",
       "Software Engineer                          51\n",
       "Brand Manager                              46\n",
       "Executive Assistant                        46\n",
       "Name: Title, dtype: int64"
      ]
     },
     "execution_count": 46,
     "metadata": {},
     "output_type": "execute_result"
    }
   ],
   "source": [
    "def chane_titles(x):\n",
    "    x = x.strip()\n",
    "    if x == 'Senior Java Developer':\n",
    "        return 'Java Developer'\n",
    "    elif x == 'Senior Software Engineer':\n",
    "        return 'Software Engineer'\n",
    "    elif x == 'Senior QA Engineer':\n",
    "        return 'Software QA Engineer'\n",
    "    elif x == 'Senior Software Developer':\n",
    "        return 'Senior Web Developer'\n",
    "    elif x =='Senior PHP Developer':\n",
    "        return 'PHP Developer'\n",
    "    elif x == 'Senior .NET Developer':\n",
    "        return '.NET Developer'\n",
    "    elif x == 'Senior Web Developer':\n",
    "        return 'Web Developer'\n",
    "    elif x == 'Database Administrator':\n",
    "        return 'Database Admin/Dev'\n",
    "    elif x == 'Database Developer':\n",
    "        return 'Database Admin/Dev'\n",
    "\n",
    "    else:\n",
    "        return x\n",
    "        \n",
    "    \n",
    "df['Title'] = df['Title'].apply(chane_titles)\n",
    "df['Title'].value_counts()"
   ]
  },
  {
   "cell_type": "code",
   "execution_count": 193,
   "id": "76d3915d",
   "metadata": {},
   "outputs": [
    {
     "name": "stdout",
     "output_type": "stream",
     "text": [
      "[216, 151, 151, 132, 126]\n",
      "19\n",
      "top 5 popular jobs : ['Accountant', 'Medical Representative', 'Chief Accountant', 'Java Developer', 'Sales Manager']\n"
     ]
    }
   ],
   "source": [
    "qty=df['Title'].value_counts()[:5].tolist()\n",
    "label=df['Title'].value_counts().index.tolist()\n",
    "print(qty)\n",
    "\n",
    "print('top 5 popular jobs : '+str(df['Title'].value_counts()[:5].index.tolist()))"
   ]
  },
  {
   "cell_type": "code",
   "execution_count": 147,
   "id": "fd35f2a5",
   "metadata": {},
   "outputs": [],
   "source": [
    "stopwordsSkills=[]\n",
    "sk= pd.read_csv(\"./input/dataset/skill2vec_50K.csv\")['skills']\n",
    "for word in sk:\n",
    "    word=str(word)\n",
    "    word.lower()\n",
    "    word=word.split(',')\n",
    "    if(word[0]!=''):\n",
    "        stopwordsSkills.append(word[0])\n",
    "sdf=pd.DataFrame({'skills':stopwordsSkills})\n"
   ]
  },
  {
   "cell_type": "code",
   "execution_count": 119,
   "id": "4a1c3926",
   "metadata": {},
   "outputs": [
    {
     "name": "stdout",
     "output_type": "stream",
     "text": [
      "top 5 skills : \n",
      "Communication Skills    328\n",
      "Java                    261\n",
      "Sales                   205\n",
      "Marketing               186\n",
      "tools                   176\n",
      "Business Development    164\n",
      "Accounting              164\n",
      "XML                     146\n",
      "Finance                 145\n",
      "development             144\n",
      "Name: skills, dtype: int64\n"
     ]
    }
   ],
   "source": [
    "qtySkills=sdf[\"skills\"].value_counts().tolist()\n",
    "labelSkills=sdf['skills'].value_counts().index.tolist()\n",
    "print('top 5 skills : \\n'+str(sdf['skills'].value_counts()[:10]))"
   ]
  },
  {
   "cell_type": "code",
   "execution_count": null,
   "id": "b0d9d4ee",
   "metadata": {},
   "outputs": [],
   "source": [
    "jobSkills=[]\n",
    "for i in df[\"RequiredQual\"]:\n",
    "    jobSkills.append(i.lower())\n",
    "Xclass=vectorizer.fit_transform(jobSkills)\n",
    "X_train,X_test,Y_train,Y_test=train_test_split(Xclass,df['Title'],test_size=0.2,random_state=42)\n"
   ]
  },
  {
   "cell_type": "code",
   "execution_count": null,
   "id": "25d2568f",
   "metadata": {},
   "outputs": [],
   "source": [
    "from sklearn.model_selection import GridSearchCV\n",
    "from sklearn.metrics import classification_report\n",
    "from sklearn.svm import SVC\n",
    "\n",
    "svm=SVC(C=5,gamma=1,kernel='rbf',probability=True)\n",
    "svmfit=svm.fit(X_train,Y_train)\n",
    "svm_predictions=svmfit.predict(X_test)\n",
    "print(classification_report(Y_test,svm_predictions))"
   ]
  },
  {
   "cell_type": "code",
   "execution_count": null,
   "id": "ceb3d17c",
   "metadata": {},
   "outputs": [],
   "source": [
    "vectorizer=TfidfVectorizer()\n",
    "X=vectorizer.fit_transform(df['Title'].values)\n",
    "analyze=vectorizer.build_analyzer()\n",
    "features=vectorizer.get_feature_names()\n"
   ]
  },
  {
   "cell_type": "code",
   "execution_count": null,
   "id": "90e0d7e6",
   "metadata": {},
   "outputs": [],
   "source": [
    "userInput=input(\"skills :\")\n",
    "pred=vectorizer.transform([userInput.lower()])\n",
    "output=svm.predict(pred)\n",
    "print(\"you may look into \" + output)"
   ]
  },
  {
   "cell_type": "code",
   "execution_count": null,
   "id": "34102b0c",
   "metadata": {},
   "outputs": [],
   "source": []
  },
  {
   "cell_type": "code",
   "execution_count": null,
   "id": "0001528d",
   "metadata": {},
   "outputs": [],
   "source": []
  }
 ],
 "metadata": {
  "kernelspec": {
   "display_name": "Python 3 (ipykernel)",
   "language": "python",
   "name": "python3"
  },
  "language_info": {
   "codemirror_mode": {
    "name": "ipython",
    "version": 3
   },
   "file_extension": ".py",
   "mimetype": "text/x-python",
   "name": "python",
   "nbconvert_exporter": "python",
   "pygments_lexer": "ipython3",
   "version": "3.9.13"
  }
 },
 "nbformat": 4,
 "nbformat_minor": 5
}

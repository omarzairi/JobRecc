{
 "cells": [
  {
   "cell_type": "code",
   "execution_count": 1,
   "id": "d60e26d5",
   "metadata": {},
   "outputs": [
    {
     "name": "stderr",
     "output_type": "stream",
     "text": [
      "[nltk_data] Downloading package punkt to\n",
      "[nltk_data]     C:\\Users\\zairi\\AppData\\Roaming\\nltk_data...\n",
      "[nltk_data]   Package punkt is already up-to-date!\n"
     ]
    }
   ],
   "source": [
    "import pandas as pd\n",
    "import operator\n",
    "import re\n",
    "from nltk.corpus import stopwords\n",
    "from nltk.tokenize import word_tokenize\n",
    "import nltk\n",
    "nltk.download('punkt')\n",
    "import matplotlib.pyplot as plt\n",
    "from sklearn.feature_extraction.text import TfidfVectorizer\n",
    "from sklearn.cluster import KMeans\n",
    "import seaborn as sns\n",
    "from sklearn.decomposition import PCA\n",
    "from sklearn.model_selection import train_test_split\n",
    "from sklearn.linear_model import LogisticRegression\n",
    "from sklearn.neighbors import KNeighborsClassifier\n",
    "from sklearn.tree import DecisionTreeClassifier\n",
    "from sklearn.metrics import confusion_matrix,make_scorer,classification_report,accuracy_score\n",
    "from sklearn import svm\n",
    "from sklearn.metrics.pairwise import euclidean_distances\n",
    "from sklearn.metrics.pairwise import cosine_similarity\n",
    "from sklearn.metrics import roc_curve,roc_auc_score\n",
    "import warnings\n",
    "warnings.filterwarnings('ignore')"
   ]
  },
  {
   "cell_type": "code",
   "execution_count": 2,
   "id": "d0c92669",
   "metadata": {},
   "outputs": [
    {
     "data": {
      "text/html": [
       "<div>\n",
       "<style scoped>\n",
       "    .dataframe tbody tr th:only-of-type {\n",
       "        vertical-align: middle;\n",
       "    }\n",
       "\n",
       "    .dataframe tbody tr th {\n",
       "        vertical-align: top;\n",
       "    }\n",
       "\n",
       "    .dataframe thead th {\n",
       "        text-align: right;\n",
       "    }\n",
       "</style>\n",
       "<table border=\"1\" class=\"dataframe\">\n",
       "  <thead>\n",
       "    <tr style=\"text-align: right;\">\n",
       "      <th></th>\n",
       "      <th>RequiredQual</th>\n",
       "      <th>JobDescription</th>\n",
       "      <th>JobRequirment</th>\n",
       "      <th>Title</th>\n",
       "      <th>Combined</th>\n",
       "    </tr>\n",
       "  </thead>\n",
       "  <tbody>\n",
       "    <tr>\n",
       "      <th>0</th>\n",
       "      <td>- Fluency in spoken and written English; knowl...</td>\n",
       "      <td>This is an excellent opportunity for the right...</td>\n",
       "      <td>- Responsible for managing office administrati...</td>\n",
       "      <td>Administrative Assistant</td>\n",
       "      <td>- Fluency in spoken and written English; knowl...</td>\n",
       "    </tr>\n",
       "    <tr>\n",
       "      <th>1</th>\n",
       "      <td>- Written and oral fluency in English, Armenia...</td>\n",
       "      <td>The accountant is a full-time national staff p...</td>\n",
       "      <td>- Manage program financial system and budget o...</td>\n",
       "      <td>Accountant</td>\n",
       "      <td>- Written and oral fluency in English, Armenia...</td>\n",
       "    </tr>\n",
       "    <tr>\n",
       "      <th>2</th>\n",
       "      <td>- Excellent communication skills. Friendly per...</td>\n",
       "      <td>This is a full-time position based in CCDI's Y...</td>\n",
       "      <td>- Provide translation and interpretation servi...</td>\n",
       "      <td>Administrative Assistant</td>\n",
       "      <td>- Excellent communication skills. Friendly per...</td>\n",
       "    </tr>\n",
       "    <tr>\n",
       "      <th>3</th>\n",
       "      <td>- Degree in Computer Science, Information Tech...</td>\n",
       "      <td>Synergy International Systems, Inc./Armenia se...</td>\n",
       "      <td>Specific tasks and key responsibilities includ...</td>\n",
       "      <td>Software Developer</td>\n",
       "      <td>- Degree in Computer Science, Information Tech...</td>\n",
       "    </tr>\n",
       "    <tr>\n",
       "      <th>4</th>\n",
       "      <td>- Advanced university degree in public health ...</td>\n",
       "      <td>The UNDP and the Ministry of Health seek\\r\\npr...</td>\n",
       "      <td>- Daily management of project activities by le...</td>\n",
       "      <td>Project Manager</td>\n",
       "      <td>- Advanced university degree in public health ...</td>\n",
       "    </tr>\n",
       "  </tbody>\n",
       "</table>\n",
       "</div>"
      ],
      "text/plain": [
       "                                        RequiredQual  \\\n",
       "0  - Fluency in spoken and written English; knowl...   \n",
       "1  - Written and oral fluency in English, Armenia...   \n",
       "2  - Excellent communication skills. Friendly per...   \n",
       "3  - Degree in Computer Science, Information Tech...   \n",
       "4  - Advanced university degree in public health ...   \n",
       "\n",
       "                                      JobDescription  \\\n",
       "0  This is an excellent opportunity for the right...   \n",
       "1  The accountant is a full-time national staff p...   \n",
       "2  This is a full-time position based in CCDI's Y...   \n",
       "3  Synergy International Systems, Inc./Armenia se...   \n",
       "4  The UNDP and the Ministry of Health seek\\r\\npr...   \n",
       "\n",
       "                                       JobRequirment  \\\n",
       "0  - Responsible for managing office administrati...   \n",
       "1  - Manage program financial system and budget o...   \n",
       "2  - Provide translation and interpretation servi...   \n",
       "3  Specific tasks and key responsibilities includ...   \n",
       "4  - Daily management of project activities by le...   \n",
       "\n",
       "                      Title                                           Combined  \n",
       "0  Administrative Assistant  - Fluency in spoken and written English; knowl...  \n",
       "1                Accountant  - Written and oral fluency in English, Armenia...  \n",
       "2  Administrative Assistant  - Excellent communication skills. Friendly per...  \n",
       "3        Software Developer  - Degree in Computer Science, Information Tech...  \n",
       "4           Project Manager  - Advanced university degree in public health ...  "
      ]
     },
     "execution_count": 2,
     "metadata": {},
     "output_type": "execute_result"
    }
   ],
   "source": [
    "jobs=\"./input/dataset/Modified.csv\"\n",
    "df=pd.read_csv(jobs)\n",
    "df.head()"
   ]
  },
  {
   "cell_type": "code",
   "execution_count": 3,
   "id": "a906e5a5",
   "metadata": {},
   "outputs": [
    {
     "data": {
      "text/html": [
       "<div>\n",
       "<style scoped>\n",
       "    .dataframe tbody tr th:only-of-type {\n",
       "        vertical-align: middle;\n",
       "    }\n",
       "\n",
       "    .dataframe tbody tr th {\n",
       "        vertical-align: top;\n",
       "    }\n",
       "\n",
       "    .dataframe thead th {\n",
       "        text-align: right;\n",
       "    }\n",
       "</style>\n",
       "<table border=\"1\" class=\"dataframe\">\n",
       "  <thead>\n",
       "    <tr style=\"text-align: right;\">\n",
       "      <th></th>\n",
       "      <th>RequiredQual</th>\n",
       "      <th>JobDescription</th>\n",
       "      <th>JobRequirment</th>\n",
       "      <th>Title</th>\n",
       "      <th>Combined</th>\n",
       "    </tr>\n",
       "  </thead>\n",
       "  <tbody>\n",
       "    <tr>\n",
       "      <th>count</th>\n",
       "      <td>1790</td>\n",
       "      <td>1773</td>\n",
       "      <td>1773</td>\n",
       "      <td>1774</td>\n",
       "      <td>1774</td>\n",
       "    </tr>\n",
       "    <tr>\n",
       "      <th>unique</th>\n",
       "      <td>1578</td>\n",
       "      <td>1448</td>\n",
       "      <td>1475</td>\n",
       "      <td>20</td>\n",
       "      <td>1617</td>\n",
       "    </tr>\n",
       "    <tr>\n",
       "      <th>top</th>\n",
       "      <td>- Excellent communication skills;\\r\\n- Good or...</td>\n",
       "      <td>The incumbent will work under the direct super...</td>\n",
       "      <td>- Answer telephone calls and inquiries, forwar...</td>\n",
       "      <td>Accountant</td>\n",
       "      <td>- Excellent communication skills; - Good oral ...</td>\n",
       "    </tr>\n",
       "    <tr>\n",
       "      <th>freq</th>\n",
       "      <td>43</td>\n",
       "      <td>55</td>\n",
       "      <td>50</td>\n",
       "      <td>216</td>\n",
       "      <td>40</td>\n",
       "    </tr>\n",
       "  </tbody>\n",
       "</table>\n",
       "</div>"
      ],
      "text/plain": [
       "                                             RequiredQual  \\\n",
       "count                                                1790   \n",
       "unique                                               1578   \n",
       "top     - Excellent communication skills;\\r\\n- Good or...   \n",
       "freq                                                   43   \n",
       "\n",
       "                                           JobDescription  \\\n",
       "count                                                1773   \n",
       "unique                                               1448   \n",
       "top     The incumbent will work under the direct super...   \n",
       "freq                                                   55   \n",
       "\n",
       "                                            JobRequirment       Title  \\\n",
       "count                                                1773        1774   \n",
       "unique                                               1475          20   \n",
       "top     - Answer telephone calls and inquiries, forwar...  Accountant   \n",
       "freq                                                   50         216   \n",
       "\n",
       "                                                 Combined  \n",
       "count                                                1774  \n",
       "unique                                               1617  \n",
       "top     - Excellent communication skills; - Good oral ...  \n",
       "freq                                                   40  "
      ]
     },
     "execution_count": 3,
     "metadata": {},
     "output_type": "execute_result"
    }
   ],
   "source": [
    "df.shape\n",
    "df.describe()"
   ]
  },
  {
   "cell_type": "code",
   "execution_count": null,
   "id": "acf78105",
   "metadata": {},
   "outputs": [],
   "source": []
  },
  {
   "cell_type": "code",
   "execution_count": 4,
   "id": "62d76fff",
   "metadata": {},
   "outputs": [
    {
     "data": {
      "text/plain": [
       "Accountant                                216\n",
       "Chief Accountant                          151\n",
       "Medical Representative                    151\n",
       "Java Developer                            132\n",
       "Sales Manager                             126\n",
       "Administrative Assistant                  124\n",
       "Lawyer                                    115\n",
       "Project Manager                            94\n",
       "Software Developer                         79\n",
       "Web Developer                              74\n",
       "Receptionist/ Administrative Assistant     73\n",
       "Office Manager                             65\n",
       "Marketing Specialist                       60\n",
       "Marketing Manager                          59\n",
       "QA Engineer                                59\n",
       "PHP Developer                              52\n",
       "Software Engineer                          51\n",
       "Executive Assistant                        46\n",
       "Brand Manager                              46\n",
       "Python Developer                            1\n",
       "Name: Title, dtype: int64"
      ]
     },
     "execution_count": 4,
     "metadata": {},
     "output_type": "execute_result"
    }
   ],
   "source": [
    "classes = df['Title'].value_counts()[:20]\n",
    "keys = classes.keys().to_list()\n",
    "\n",
    "df = df[df['Title'].isin(keys)]\n",
    "df['Title'].value_counts()"
   ]
  },
  {
   "cell_type": "code",
   "execution_count": 5,
   "id": "8edf5cbe",
   "metadata": {},
   "outputs": [
    {
     "data": {
      "text/plain": [
       "Accountant                                216\n",
       "Chief Accountant                          151\n",
       "Medical Representative                    151\n",
       "Java Developer                            132\n",
       "Sales Manager                             126\n",
       "Administrative Assistant                  124\n",
       "Lawyer                                    115\n",
       "Project Manager                            94\n",
       "Software Developer                         79\n",
       "Web Developer                              74\n",
       "Receptionist/ Administrative Assistant     73\n",
       "Office Manager                             65\n",
       "Marketing Specialist                       60\n",
       "Marketing Manager                          59\n",
       "QA Engineer                                59\n",
       "PHP Developer                              52\n",
       "Software Engineer                          51\n",
       "Executive Assistant                        46\n",
       "Brand Manager                              46\n",
       "Python Developer                            1\n",
       "Name: Title, dtype: int64"
      ]
     },
     "execution_count": 5,
     "metadata": {},
     "output_type": "execute_result"
    }
   ],
   "source": [
    "def chane_titles(x):\n",
    "    x = x.strip()\n",
    "    if x == 'Senior Java Developer':\n",
    "        return 'Java Developer'\n",
    "    elif x == 'Senior Software Engineer':\n",
    "        return 'Software Engineer'\n",
    "    elif x == 'Senior QA Engineer':\n",
    "        return 'Software QA Engineer'\n",
    "    elif x == 'Senior Software Developer':\n",
    "        return 'Senior Web Developer'\n",
    "    elif x =='Senior PHP Developer':\n",
    "        return 'PHP Developer'\n",
    "    elif x == 'Senior .NET Developer':\n",
    "        return '.NET Developer'\n",
    "    elif x == 'Senior Web Developer':\n",
    "        return 'Web Developer'\n",
    "    elif x == 'Database Administrator':\n",
    "        return 'Database Admin/Dev'\n",
    "    elif x == 'Database Developer':\n",
    "        return 'Database Admin/Dev'\n",
    "\n",
    "    else:\n",
    "        return x\n",
    "        \n",
    "    \n",
    "df['Title'] = df['Title'].apply(chane_titles)\n",
    "df['Title'].value_counts()"
   ]
  },
  {
   "cell_type": "code",
   "execution_count": 6,
   "id": "76d3915d",
   "metadata": {},
   "outputs": [
    {
     "name": "stdout",
     "output_type": "stream",
     "text": [
      "[216, 151, 151, 132, 126]\n",
      "top 5 popular jobs : ['Accountant', 'Chief Accountant', 'Medical Representative', 'Java Developer', 'Sales Manager']\n"
     ]
    }
   ],
   "source": [
    "qty=df['Title'].value_counts()[:5].tolist()\n",
    "label=df['Title'].value_counts().index.tolist()\n",
    "print(qty)\n",
    "\n",
    "print('top 5 popular jobs : '+str(df['Title'].value_counts()[:5].index.tolist()))"
   ]
  },
  {
   "cell_type": "code",
   "execution_count": 7,
   "id": "fd35f2a5",
   "metadata": {},
   "outputs": [],
   "source": [
    "stopwordsSkills=[]\n",
    "sk= pd.read_csv(\"./input/dataset/skill2vec_50K.csv\")['skills']\n",
    "for word in sk:\n",
    "    word=str(word)\n",
    "    word.lower()\n",
    "    word=word.split(',')\n",
    "    if(word[0]!=''):\n",
    "        stopwordsSkills.append(word[0])\n",
    "sdf=pd.DataFrame({'skills':stopwordsSkills})\n"
   ]
  },
  {
   "cell_type": "code",
   "execution_count": 8,
   "id": "4a1c3926",
   "metadata": {},
   "outputs": [
    {
     "name": "stdout",
     "output_type": "stream",
     "text": [
      "top 5 skills : \n",
      "Communication Skills    328\n",
      "Java                    261\n",
      "Sales                   205\n",
      "Marketing               186\n",
      "tools                   176\n",
      "Business Development    164\n",
      "Accounting              164\n",
      "XML                     146\n",
      "Finance                 145\n",
      "development             144\n",
      "Name: skills, dtype: int64\n"
     ]
    }
   ],
   "source": [
    "qtySkills=sdf[\"skills\"].value_counts().tolist()\n",
    "labelSkills=sdf['skills'].value_counts().index.tolist()\n",
    "print('top 5 skills : \\n'+str(sdf['skills'].value_counts()[:10]))"
   ]
  },
  {
   "cell_type": "code",
   "execution_count": 9,
   "id": "ceb3d17c",
   "metadata": {},
   "outputs": [],
   "source": [
    "vectorizer=TfidfVectorizer()\n",
    "X=vectorizer.fit_transform(df['Title'].values)\n",
    "analyze=vectorizer.build_analyzer()\n",
    "features=vectorizer.get_feature_names()\n"
   ]
  },
  {
   "cell_type": "code",
   "execution_count": 10,
   "id": "b0d9d4ee",
   "metadata": {},
   "outputs": [],
   "source": [
    "jobSkills=[]\n",
    "for i in df[\"RequiredQual\"]:\n",
    "    jobSkills.append(i.lower())\n",
    "Xclass=vectorizer.fit_transform(jobSkills)\n",
    "X_train,X_test,Y_train,Y_test=train_test_split(Xclass,df['Title'],test_size=0.2,random_state=42)\n"
   ]
  },
  {
   "cell_type": "code",
   "execution_count": 11,
   "id": "25d2568f",
   "metadata": {},
   "outputs": [
    {
     "name": "stdout",
     "output_type": "stream",
     "text": [
      "                                        precision    recall  f1-score   support\n",
      "\n",
      "                            Accountant       0.77      0.83      0.80        41\n",
      "              Administrative Assistant       0.49      0.93      0.64        27\n",
      "                         Brand Manager       1.00      0.62      0.77         8\n",
      "                      Chief Accountant       0.93      0.74      0.82        38\n",
      "                   Executive Assistant       1.00      0.36      0.53        11\n",
      "                        Java Developer       0.86      0.93      0.89        27\n",
      "                                Lawyer       0.97      0.97      0.97        29\n",
      "                     Marketing Manager       0.71      0.71      0.71         7\n",
      "                  Marketing Specialist       0.90      0.60      0.72        15\n",
      "                Medical Representative       0.97      1.00      0.98        30\n",
      "                        Office Manager       0.80      0.36      0.50        11\n",
      "                         PHP Developer       0.82      0.75      0.78        12\n",
      "                       Project Manager       0.93      0.88      0.90        16\n",
      "                           QA Engineer       1.00      0.91      0.95        11\n",
      "Receptionist/ Administrative Assistant       1.00      1.00      1.00        13\n",
      "                         Sales Manager       0.67      0.84      0.74        19\n",
      "                    Software Developer       0.87      0.81      0.84        16\n",
      "                     Software Engineer       0.88      0.70      0.78        10\n",
      "                         Web Developer       0.86      0.86      0.86        14\n",
      "\n",
      "                              accuracy                           0.82       355\n",
      "                             macro avg       0.86      0.78      0.80       355\n",
      "                          weighted avg       0.85      0.82      0.82       355\n",
      "\n"
     ]
    }
   ],
   "source": [
    "from sklearn.model_selection import GridSearchCV\n",
    "from sklearn.metrics import classification_report\n",
    "from sklearn.svm import SVC\n",
    "\n",
    "svm=SVC(C=5,gamma=1,kernel='rbf',probability=True)\n",
    "svmfit=svm.fit(X_train,Y_train)\n",
    "svm_predictions=svmfit.predict(X_test)\n",
    "print(classification_report(Y_test,svm_predictions))"
   ]
  },
  {
   "cell_type": "code",
   "execution_count": 37,
   "id": "90e0d7e6",
   "metadata": {},
   "outputs": [
    {
     "name": "stdout",
     "output_type": "stream",
     "text": [
      "skills :law\n",
      "['you may look into Lawyer']\n"
     ]
    }
   ],
   "source": [
    "userInput=input(\"skills :\")\n",
    "pred=vectorizer.transform([userInput.lower()])\n",
    "output=svm.predict(pred)\n",
    "print(\"you may look into \" + output)"
   ]
  },
  {
   "cell_type": "code",
   "execution_count": null,
   "id": "34102b0c",
   "metadata": {},
   "outputs": [],
   "source": []
  },
  {
   "cell_type": "code",
   "execution_count": null,
   "id": "0001528d",
   "metadata": {},
   "outputs": [],
   "source": []
  }
 ],
 "metadata": {
  "kernelspec": {
   "display_name": "Python 3 (ipykernel)",
   "language": "python",
   "name": "python3"
  },
  "language_info": {
   "codemirror_mode": {
    "name": "ipython",
    "version": 3
   },
   "file_extension": ".py",
   "mimetype": "text/x-python",
   "name": "python",
   "nbconvert_exporter": "python",
   "pygments_lexer": "ipython3",
   "version": "3.9.13"
  }
 },
 "nbformat": 4,
 "nbformat_minor": 5
}
